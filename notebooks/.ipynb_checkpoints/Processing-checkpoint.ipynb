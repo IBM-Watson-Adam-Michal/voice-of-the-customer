{
 "cells": [
  {
   "cell_type": "markdown",
   "metadata": {},
   "source": [
    "# Processing Flow\n",
    "The processing flow is run on all of the review data once the models are all trained up and validated. This is the flow that will actually turn the raw data into the processed output."
   ]
  },
  {
   "cell_type": "markdown",
   "metadata": {},
   "source": [
    "# Steps\n",
    "\n",
    "The entire processing flow is automated in src/Processing/controller.py which runs all the steps for you. However, each of these steps may need to be altered slightly depending on how the data is being stored and the format of the data itself.\n",
    "\n",
    "1. Token Replacement\n",
    "2. Classification\n",
    "3. Clustering\n",
    "4. Make Final JSON"
   ]
  },
  {
   "cell_type": "markdown",
   "metadata": {},
   "source": [
    "# Token Replacement\n",
    "The script that runs the token replacement on the review data is src/Processing/token_replacement.py"
   ]
  },
  {
   "cell_type": "markdown",
   "metadata": {},
   "source": [
    "# Classification\n",
    "The script that runs the NLC on the review data is src/Procesing/runNLC.py"
   ]
  },
  {
   "cell_type": "markdown",
   "metadata": {},
   "source": [
    "# Clustering\n",
    "The script that runs the clustering on the review data is src/Processing/clustering.py\n",
    "A word2vec model is provided"
   ]
  },
  {
   "cell_type": "markdown",
   "metadata": {},
   "source": [
    "# Make Final JSON\n",
    "The script that takes all of these pieces and turns them into the final JSON structure that will be used by a front end application is src/Processing/makeFinalJSON.py"
   ]
  }
 ],
 "metadata": {
  "kernelspec": {
   "display_name": "Python 2",
   "language": "python",
   "name": "python2"
  },
  "language_info": {
   "codemirror_mode": {
    "name": "ipython",
    "version": 2
   },
   "file_extension": ".py",
   "mimetype": "text/x-python",
   "name": "python",
   "nbconvert_exporter": "python",
   "pygments_lexer": "ipython2",
   "version": "2.7.11"
  }
 },
 "nbformat": 4,
 "nbformat_minor": 0
}
